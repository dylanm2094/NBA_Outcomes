{
 "cells": [
  {
   "cell_type": "markdown",
   "metadata": {},
   "source": [
    "# Import Dependencies and data \n",
    "#### Read the data using pandas "
   ]
  },
  {
   "cell_type": "code",
   "execution_count": null,
   "metadata": {},
   "outputs": [],
   "source": [
    "# Dependencies and Setup\n",
    "import matplotlib.pyplot as plt\n",
    "import pandas as pd\n",
    "import scipy.stats as st\n",
    "import numpy as np\n",
    "from sklearn import tree"
   ]
  },
  {
   "cell_type": "code",
   "execution_count": null,
   "metadata": {},
   "outputs": [],
   "source": [
    "# Study data files\n",
    "data1 = \"../data/nba odds 2014-15.csv\"\n",
    "data2 = \"../data/nba odds 2015-16.csv\"\n",
    "data3 = \"../data/nba odds 2016-17.csv\"\n",
    "data4 = \"../data/nba odds 2017-18.csv\"\n",
    "\n",
    "# Read the mouse data and the study results\n",
    "data1 = pd.read_csv(data1)\n",
    "data2 = pd.read_csv(data2)\n",
    "data3 = pd.read_csv(data3)\n",
    "data4 = pd.read_csv(data4)"
   ]
  },
  {
   "cell_type": "markdown",
   "metadata": {},
   "source": [
    "# Merge all the different seasons "
   ]
  },
  {
   "cell_type": "code",
   "execution_count": null,
   "metadata": {},
   "outputs": [],
   "source": [
    "def set_win(row):\n",
    "    if row['Point Dif'] > 0:\n",
    "        return 1\n",
    "    else:\n",
    "        return 0\n",
    "    \n",
    "def set_spread_win(row):\n",
    "    handi = row['Point Dif'] + row['Spread']\n",
    "    if handi > 0:\n",
    "        return 1\n",
    "    else:\n",
    "        return 0\n",
    "    \n",
    "def set_ou_win(row):\n",
    "    if row['Game Total'] > row['Over']:\n",
    "        return 1\n",
    "    else:\n",
    "        return 0\n",
    "\n",
    "def data_clean(df):\n",
    "    df = df.replace({'Team': {'Atlanta':'ATL','Boston':'BOS','Brooklyn':'BRK',\n",
    "                              'Charlotte':'CHO','Chicago':'CHI','Cleveland':'CLE',\n",
    "                              'Dallas':'DAL','Denver':'DEN','Detroit':'DET',\n",
    "                              'GoldenState':'GSW','Houston':'HOU','Indiana':'IND',\n",
    "                              'LAClippers':'LAC','LALakers':'LAL','Memphis':'MEM',\n",
    "                              'Miami':'MIA','Milwaukee':'MIL','Minnesota':'MIN',\n",
    "                              'NewOrleans':'NOP','NewYork':'NYK','OklahomaCity':'OKC',\n",
    "                              'Orlando':'ORL','Philadelphia':'PHI','Phoenix':'PHO',\n",
    "                              'Portland':'POR','Sacramento':'SAC','SanAntonio':'SAS',\n",
    "                              'Toronto':'TOR','Utah':'UTA','Washington':'WAS'\n",
    "                    }})\n",
    "\n",
    "    p_dif = []\n",
    "    p_total = []\n",
    "    spread = []\n",
    "    over = []\n",
    "\n",
    "    # Iterate through table and calculate point dif and winners and insert into list \n",
    "    for i in range(1, df.shape[0], 2):\n",
    "        home_dif = df['Final'].iloc[i] - df['Final'].iloc[i-1]\n",
    "        away_dif = df['Final'].iloc[i-1] - df['Final'].iloc[i]\n",
    "        total = df['Final'].iloc[i] + df['Final'].iloc[i-1]\n",
    "        if df['Close'].iloc[i] == 'pk':\n",
    "            spread.append(0)\n",
    "            spread.append(0)\n",
    "            over.append(float(df['Close'].iloc[i-1]))\n",
    "            over.append(float(df['Close'].iloc[i-1]))\n",
    "        elif df['Close'].iloc[i-1] == 'pk':\n",
    "            spread.append(0)\n",
    "            spread.append(0)\n",
    "            over.append(float(df['Close'].iloc[i]))\n",
    "            over.append(float(df['Close'].iloc[i]))\n",
    "        elif df['ML'].iloc[i] < df['ML'].iloc[i-1]:\n",
    "            spread.append(float(df['Close'].iloc[i]))\n",
    "            spread.append(-float(df['Close'].iloc[i]))\n",
    "            over.append(float(df['Close'].iloc[i-1]))\n",
    "            over.append(float(df['Close'].iloc[i-1]))\n",
    "        elif df['ML'].iloc[i] > df['ML'].iloc[i-1]:\n",
    "            spread.append(-float(df['Close'].iloc[i-1]))\n",
    "            spread.append(float(df['Close'].iloc[i-1]))\n",
    "            over.append(float(df['Close'].iloc[i]))\n",
    "            over.append(float(df['Close'].iloc[i]))\n",
    "        else:\n",
    "            spread.append(0)\n",
    "            spread.append(0)\n",
    "            over.append(float(df['Close'].iloc[i-1]))\n",
    "            over.append(float(df['Close'].iloc[i-1]))\n",
    "\n",
    "        p_total.append(total)\n",
    "        p_total.append(total)\n",
    "        p_dif.append(away_dif)\n",
    "        p_dif.append(home_dif)\n",
    "            \n",
    "    # Add point dif column and data         \n",
    "    df['Point Dif'] = p_dif\n",
    "    df['Game Total'] = p_total\n",
    "    df['Spread'] = spread\n",
    "    df['Over'] = over\n",
    "    df = df.reset_index()\n",
    "    \n",
    "    # add the result column \n",
    "    df = df.assign(Win=df.apply(set_win, axis=1))\n",
    "    df = df.assign(Win_Spread=df.apply(set_spread_win, axis=1)) \n",
    "    df = df.assign(Win_Over=df.apply(set_ou_win, axis=1)) \n",
    "    \n",
    "    point_dict = {}\n",
    "    net_points = []\n",
    "    wd = {}\n",
    "    w = []    \n",
    "\n",
    "    for i in df.iterrows():\n",
    "    #point difference\n",
    "        if i[1]['Team'] in point_dict:\n",
    "            net_points.append(point_dict[i[1]['Team']])\n",
    "            point_dict[i[1]['Team']] = point_dict[i[1]['Team']] + int(i[1]['Point Dif'])\n",
    "            w.append(wd[i[1]['Team']])\n",
    "            wd[i[1]['Team']] = wd[i[1]['Team']] + int(i[1]['Win'])\n",
    "        else:\n",
    "            point_dict[i[1]['Team']] = int(i[1]['Point Dif'])\n",
    "            net_points.append(0)\n",
    "            wd[i[1]['Team']] = int(i[1]['Win'])\n",
    "            w.append(0)\n",
    "    \n",
    "    df['season_wins'] = w        \n",
    "    df['net_points'] = net_points\n",
    "    df = df.sort_values(by=['Team','season_wins','Date'])\n",
    "    return df"
   ]
  },
  {
   "cell_type": "code",
   "execution_count": null,
   "metadata": {},
   "outputs": [],
   "source": [
    "clean1 = data_clean(data1)\n",
    "clean2 = data_clean(data2)\n",
    "clean3 = data_clean(data3)\n",
    "clean4 = data_clean(data4)\n",
    "\n",
    "frames = [clean1,clean2,clean3,clean4]\n",
    "    \n",
    "df = pd.concat(frames)\n",
    "df.drop(df.columns[23:],axis=1,inplace=True)\n",
    "df"
   ]
  },
  {
   "cell_type": "code",
   "execution_count": null,
   "metadata": {},
   "outputs": [],
   "source": [
    "df.to_csv('historical_odds.csv')"
   ]
  },
  {
   "cell_type": "code",
   "execution_count": null,
   "metadata": {},
   "outputs": [],
   "source": [
    "odds_df = pd.read_csv('historical_odds.csv')\n",
    "odds_df"
   ]
  },
  {
   "cell_type": "markdown",
   "metadata": {},
   "source": [
    "# Cleaning Up the Dataframe"
   ]
  },
  {
   "cell_type": "code",
   "execution_count": null,
   "metadata": {},
   "outputs": [],
   "source": [
    "cols = [0,1,3,6,7,8,9,10,11,12,14,15,16]\n",
    "odds_df.drop(odds_df.columns[cols],axis=1,inplace=True)\n",
    "odds_df"
   ]
  },
  {
   "cell_type": "code",
   "execution_count": null,
   "metadata": {},
   "outputs": [],
   "source": [
    "odds_df = odds_df.replace({'VH': {'V': 0, 'H': 1, 'N':0}})\n",
    "odds_df = odds_df.rename(columns={\"VH\": \"Home\"})\n",
    "odds_df = odds_df.dropna()\n",
    "\n",
    "odds_df"
   ]
  },
  {
   "cell_type": "code",
   "execution_count": null,
   "metadata": {},
   "outputs": [],
   "source": [
    "odds_df.to_csv('historical_odds.csv')"
   ]
  },
  {
   "cell_type": "markdown",
   "metadata": {},
   "source": [
    "# Manually add dates"
   ]
  },
  {
   "cell_type": "code",
   "execution_count": null,
   "metadata": {},
   "outputs": [],
   "source": [
    "odds_df = pd.read_csv('historical_odds.csv')\n",
    "cols = [0]\n",
    "odds_df.drop(odds_df.columns[cols],axis=1,inplace=True)\n",
    "odds_df"
   ]
  },
  {
   "cell_type": "code",
   "execution_count": null,
   "metadata": {},
   "outputs": [],
   "source": [
    "stats_df = pd.read_csv('../data/nba.games.stats.csv')\n",
    "raw_df = pd.merge(odds_df,stats_df,on=['Team','Date'])\n",
    "raw_df"
   ]
  },
  {
   "cell_type": "code",
   "execution_count": null,
   "metadata": {},
   "outputs": [],
   "source": [
    "raw_df.to_csv('first_merge.csv')"
   ]
  },
  {
   "cell_type": "code",
   "execution_count": null,
   "metadata": {},
   "outputs": [],
   "source": [
    "# team_dict = {}\n",
    "# avg_for_fg = []\n",
    "# avg_for_fgp = []\n",
    "# avg_opp_fgp = []\n",
    "# avg_for_ft = []\n",
    "# avg_for_ftp = []\n",
    "# avg_opp_ft_att = []\n",
    "# for_3p = []\n",
    "# avg_for_3p = []\n",
    "# avg_opp_3p = []\n",
    "# avg_for_blk = []\n",
    "# avg_opp_blk = []\n",
    "# avg_for_to = []\n",
    "# avg_opp_to = []\n",
    "# ttl_blk = []\n",
    "\n",
    "raw_df['avg_for_fg'] = raw_df['FieldGoals'].rolling(2).mean()\n",
    "raw_df['avg_for_fgp'] = raw_df['FieldGoals.'].rolling(2).mean()\n",
    "raw_df['avg_opp_fgp'] = raw_df['Opp.FieldGoals.'].rolling(2).mean()\n",
    "raw_df['avg_for_3p'] = raw_df['X3PointShots'].rolling(2).mean()\n",
    "raw_df['avg_for_3pp'] = raw_df['X3PointShots.'].rolling(2).mean()\n",
    "raw_df['avg_opp_3pp'] = raw_df['Opp.3PointShots.'].rolling(2).mean()\n",
    "raw_df['avg_for_ft'] = raw_df['FreeThrows'].rolling(2).mean()\n",
    "raw_df['avg_for_ftp'] = raw_df['FreeThrows.'].rolling(2).mean()\n",
    "raw_df['avg_opp_fta'] = raw_df['Opp.FreeThrowsAttempted'].rolling(2).mean()\n",
    "raw_df['avg_for_rb'] = raw_df['TotalRebounds'].rolling(2).mean()\n",
    "raw_df['avg_opp_rb'] = raw_df['Opp.TotalRebounds'].rolling(2).mean()\n",
    "raw_df['avg_for_blk'] = raw_df['Blocks'].rolling(2).mean()\n",
    "raw_df['avg_opp_blk'] = raw_df['Opp.Blocks'].rolling(2).mean()\n",
    "raw_df['avg_for_to'] = raw_df['Turnovers'].rolling(2).mean()\n",
    "raw_df['avg_opp_to'] = raw_df['Opp.Turnovers'].rolling(2).mean()\n",
    "\n",
    "\n",
    "# for i in raw_df.iterrows():\n",
    "# #point difference\n",
    "#     if i[1]['Team'] in team_dict:\n",
    "#         for_fg.append(point_dict[i[1]['Team']]['for_fg'])\n",
    "#         team_dict[i[1]['Team']]['for_fg'] = team_dict[i[1]['Team']]['for_fg'] + int(i[1]['FieldGoals'])\n",
    "#         for_3p.append(point_dict[i[1]['Team']]['for_3p'])\n",
    "#         team_dict[i[1]['Team']]['for_3p'] = team_dict[i[1]['Team']]['for_3p'] + int(i[1]['X3PointShots'])\n",
    "#         ttl_blk.append(point_dict[i[1]['Team']]['ttl_blk'])\n",
    "#         team_dict[i[1]['Team']]['ttl_blk'] = team_dict[i[1]['Team']]['ttl_blk'] + int(i[1]['Blocks'])\n",
    "#         ttl_blk.append(point_dict[i[1]['Team']]['ttl_blk'])\n",
    "#         team_dict[i[1]['Team']]['ttl_blk'] = team_dict[i[1]['Team']]['ttl_blk'] + int(i[1]['Blocks'])\n",
    "#     else:\n",
    "#         game_cnt = 1\n",
    "#         point_dict[i[1]['Team']] = int(i[1]['Point Dif'])\n",
    "#         net_points.append(0)\n",
    "#         wd[i[1]['Team']] = int(i[1]['Win'])\n",
    "#         w.append(0)\n",
    "        \n",
    "raw_df"
   ]
  },
  {
   "cell_type": "code",
   "execution_count": null,
   "metadata": {},
   "outputs": [],
   "source": [
    "raw_df = raw_df.rename(columns={\"Home_x\":\"home\"})\n",
    "\n",
    "raw_df = raw_df[[\"Team\",\"home\", \"ML\",\"Spread\",\"Over\",\"season_wins\", \"net_points\", \"avg_for_fg\",\n",
    "              \"avg_for_fgp\", \"avg_opp_fgp\",\"avg_for_3p\",\"avg_for_3pp\",\"avg_opp_3pp\",\"avg_for_ft\",\n",
    "                \"avg_for_ftp\",\"avg_opp_fta\",\"avg_for_rb\",\"avg_opp_rb\",\"avg_for_blk\",\"avg_opp_blk\",\n",
    "                 \"avg_for_to\",\"avg_opp_to\",\"Win\",\"Win_Spread\",\"Win_Over\"]]"
   ]
  },
  {
   "cell_type": "code",
   "execution_count": null,
   "metadata": {},
   "outputs": [],
   "source": [
    "raw_df"
   ]
  },
  {
   "cell_type": "code",
   "execution_count": null,
   "metadata": {},
   "outputs": [],
   "source": [
    "final_df = raw_df.dropna()\n",
    "final_df = final_df.reset_index()\n",
    "cols = [0]\n",
    "final_df.drop(final_df.columns[cols],axis=1,inplace=True)\n",
    "final_df"
   ]
  },
  {
   "cell_type": "code",
   "execution_count": null,
   "metadata": {},
   "outputs": [],
   "source": [
    "cols = [0]\n",
    "final_df.drop(final_df.columns[cols],axis=1,inplace=True)\n",
    "final_df.to_csv('model_data_set.csv')\n",
    "final_df"
   ]
  },
  {
   "cell_type": "markdown",
   "metadata": {},
   "source": [
    "# Random Forest Model"
   ]
  },
  {
   "cell_type": "code",
   "execution_count": 1,
   "metadata": {},
   "outputs": [],
   "source": [
    "# Dependencies and Setup\n",
    "import matplotlib.pyplot as plt\n",
    "import pandas as pd\n",
    "import scipy.stats as st\n",
    "import numpy as np\n",
    "from sklearn import tree"
   ]
  },
  {
   "cell_type": "code",
   "execution_count": 2,
   "metadata": {},
   "outputs": [],
   "source": [
    "final_df = pd.read_csv('model_data_set.csv')\n",
    "cols = [0]\n",
    "final_df.drop(final_df.columns[cols],axis=1,inplace=True)\n",
    "#final_df"
   ]
  },
  {
   "cell_type": "code",
   "execution_count": 4,
   "metadata": {},
   "outputs": [],
   "source": [
    "# target = final_df[\"Win_Over\"]\n",
    "# target = final_df[\"Win_Spread\"]\n",
    "target = final_df[\"Win\"]\n",
    "target_names = [\"loss\", \"win\"]"
   ]
  },
  {
   "cell_type": "code",
   "execution_count": 5,
   "metadata": {},
   "outputs": [],
   "source": [
    "data = final_df.drop(columns=['Win', 'Win_Spread', 'Win_Over'],axis=1)\n",
    "feature_names = data.columns"
   ]
  },
  {
   "cell_type": "code",
   "execution_count": 6,
   "metadata": {},
   "outputs": [],
   "source": [
    "from sklearn.model_selection import train_test_split\n",
    "\n",
    "X_train, X_test, y_train, y_test = train_test_split(data, target, random_state=42)"
   ]
  },
  {
   "cell_type": "code",
   "execution_count": null,
   "metadata": {},
   "outputs": [],
   "source": [
    "from sklearn.model_selection import GridSearchCV\n",
    "from sklearn.ensemble import RandomForestClassifier\n",
    "\n",
    "param_grid = {\n",
    "    'n_estimators': [230,240,250,260,270],\n",
    "    'criterion': ['gini','entropy']\n",
    "}\n",
    "\n",
    "grid = GridSearchCV(RandomForestClassifier(), param_grid, verbose=True, n_jobs=-1)\n",
    "\n",
    "grid.fit(X_train, y_train)"
   ]
  },
  {
   "cell_type": "code",
   "execution_count": null,
   "metadata": {},
   "outputs": [],
   "source": [
    "print(grid.best_params_)"
   ]
  },
  {
   "cell_type": "code",
   "execution_count": 7,
   "metadata": {},
   "outputs": [
    {
     "data": {
      "text/plain": [
       "0.7712254286909243"
      ]
     },
     "execution_count": 7,
     "metadata": {},
     "output_type": "execute_result"
    }
   ],
   "source": [
    "#win\n",
    "from sklearn.ensemble import RandomForestClassifier\n",
    "rf = RandomForestClassifier(n_estimators=200,criterion='entropy')\n",
    "rf = rf.fit(X_train, y_train)\n",
    "rf.score(X_test, y_test)"
   ]
  },
  {
   "cell_type": "code",
   "execution_count": null,
   "metadata": {},
   "outputs": [],
   "source": [
    "#winspread\n",
    "from sklearn.ensemble import RandomForestClassifier\n",
    "rf = RandomForestClassifier(n_estimators=170,criterion='gini')\n",
    "rf = rf.fit(X_train, y_train)\n",
    "rf.score(X_test, y_test)"
   ]
  },
  {
   "cell_type": "code",
   "execution_count": null,
   "metadata": {},
   "outputs": [],
   "source": [
    "#winover\n",
    "from sklearn.ensemble import RandomForestClassifier\n",
    "rf = RandomForestClassifier(n_estimators=260,criterion='entropy')\n",
    "rf = rf.fit(X_train, y_train)\n",
    "rf.score(X_test, y_test)"
   ]
  },
  {
   "cell_type": "code",
   "execution_count": null,
   "metadata": {},
   "outputs": [],
   "source": [
    "sorted(zip(rf.feature_importances_, feature_names), reverse=True)"
   ]
  },
  {
   "cell_type": "code",
   "execution_count": 8,
   "metadata": {},
   "outputs": [
    {
     "data": {
      "text/plain": [
       "['straight_model.joblib']"
      ]
     },
     "execution_count": 8,
     "metadata": {},
     "output_type": "execute_result"
    }
   ],
   "source": [
    "from joblib import dump, load\n",
    "dump(rf, 'straight_model.joblib') "
   ]
  },
  {
   "cell_type": "code",
   "execution_count": null,
   "metadata": {},
   "outputs": [],
   "source": []
  }
 ],
 "metadata": {
  "kernelspec": {
   "display_name": "Python 3",
   "language": "python",
   "name": "python3"
  },
  "language_info": {
   "codemirror_mode": {
    "name": "ipython",
    "version": 3
   },
   "file_extension": ".py",
   "mimetype": "text/x-python",
   "name": "python",
   "nbconvert_exporter": "python",
   "pygments_lexer": "ipython3",
   "version": "3.6.10"
  }
 },
 "nbformat": 4,
 "nbformat_minor": 2
}
